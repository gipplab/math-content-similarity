{
 "cells": [
  {
   "cell_type": "code",
   "execution_count": 2,
   "metadata": {},
   "outputs": [],
   "source": [
    "import pandas as pd\n",
    "from tqdm import tqdm\n",
    "import numpy as np\n",
    "import seaborn as sns\n",
    "np.random.seed(42)"
   ]
  },
  {
   "cell_type": "code",
   "execution_count": 5,
   "metadata": {},
   "outputs": [],
   "source": [
    "conts = pd.read_csv('../data/zbmath_doc_contents.csv')\n",
    "header = ['seed'] + ['rec'+str(i) for i in range(14)]\n",
    "recs = pd.read_csv('../data/recommendationPairs.csv',names = header,index_col=0)\n",
    "full = pd.read_csv('../data/out.csv')"
   ]
  },
  {
   "cell_type": "code",
   "execution_count": 6,
   "metadata": {},
   "outputs": [],
   "source": [
    "conts = conts.rename(columns={'Abstract/Review/Summarry':'text'})\n",
    "conts = conts[~conts.text.isna()]\n",
    "conts['text'] = conts.text.apply(lambda x: x[2:-2])\n",
    "conts['text_len'] = conts.text.apply(lambda x: len(x))\n",
    "conts = conts[conts.text_len > 150]\n",
    "conts['zbMATH_ID']=conts['zbMATH_ID'].astype(int)\n",
    "golden_lookup=conts.set_index('zbMATH_ID')"
   ]
  },
  {
   "cell_type": "code",
   "execution_count": 9,
   "metadata": {},
   "outputs": [],
   "source": [
    "lookup = full.rename(columns={'de':'id'})[['id','text']]\n",
    "lookup['text_len'] = lookup.text.apply(lambda x: len(str(x)))\n",
    "lookup = lookup[lookup.text_len > 150]\n",
    "lookup['id']=lookup['id'].astype(int)\n",
    "lookup=lookup.set_index('id')"
   ]
  },
  {
   "cell_type": "code",
   "execution_count": 10,
   "metadata": {},
   "outputs": [
    {
     "data": {
      "text/html": [
       "<div>\n",
       "<style scoped>\n",
       "    .dataframe tbody tr th:only-of-type {\n",
       "        vertical-align: middle;\n",
       "    }\n",
       "\n",
       "    .dataframe tbody tr th {\n",
       "        vertical-align: top;\n",
       "    }\n",
       "\n",
       "    .dataframe thead th {\n",
       "        text-align: right;\n",
       "    }\n",
       "</style>\n",
       "<table border=\"1\" class=\"dataframe\">\n",
       "  <thead>\n",
       "    <tr style=\"text-align: right;\">\n",
       "      <th></th>\n",
       "      <th>text</th>\n",
       "      <th>text_len</th>\n",
       "    </tr>\n",
       "    <tr>\n",
       "      <th>id</th>\n",
       "      <th></th>\n",
       "      <th></th>\n",
       "    </tr>\n",
       "  </thead>\n",
       "  <tbody>\n",
       "    <tr>\n",
       "      <th>3928129</th>\n",
       "      <td>Two fold-over 14 point designs of the \\(2^ 4\\t...</td>\n",
       "      <td>415</td>\n",
       "    </tr>\n",
       "    <tr>\n",
       "      <th>3928148</th>\n",
       "      <td>By analogy with the univariate case the author...</td>\n",
       "      <td>583</td>\n",
       "    </tr>\n",
       "    <tr>\n",
       "      <th>3928149</th>\n",
       "      <td>This is a study of asymptotic properties of va...</td>\n",
       "      <td>384</td>\n",
       "    </tr>\n",
       "    <tr>\n",
       "      <th>3928151</th>\n",
       "      <td>Let \\(\\{\\) X(t)\\(\\}\\), \\(t\\in {\\mathbb{Z}}\\), ...</td>\n",
       "      <td>1155</td>\n",
       "    </tr>\n",
       "    <tr>\n",
       "      <th>3928154</th>\n",
       "      <td>In this paper the authors study the prediction...</td>\n",
       "      <td>655</td>\n",
       "    </tr>\n",
       "    <tr>\n",
       "      <th>...</th>\n",
       "      <td>...</td>\n",
       "      <td>...</td>\n",
       "    </tr>\n",
       "    <tr>\n",
       "      <th>7500464</th>\n",
       "      <td>Summary: We study determinants of the square-t...</td>\n",
       "      <td>346</td>\n",
       "    </tr>\n",
       "    <tr>\n",
       "      <th>7500465</th>\n",
       "      <td>Summary: In this study, we use the union of th...</td>\n",
       "      <td>344</td>\n",
       "    </tr>\n",
       "    <tr>\n",
       "      <th>7500466</th>\n",
       "      <td>Summary: In this work, the Catalan transformat...</td>\n",
       "      <td>582</td>\n",
       "    </tr>\n",
       "    <tr>\n",
       "      <th>7500467</th>\n",
       "      <td>Summary: A numerical treatment via a differenc...</td>\n",
       "      <td>544</td>\n",
       "    </tr>\n",
       "    <tr>\n",
       "      <th>7500468</th>\n",
       "      <td>Summary: Communication systems including AM an...</td>\n",
       "      <td>1471</td>\n",
       "    </tr>\n",
       "  </tbody>\n",
       "</table>\n",
       "<p>578412 rows × 2 columns</p>\n",
       "</div>"
      ],
      "text/plain": [
       "                                                      text  text_len\n",
       "id                                                                  \n",
       "3928129  Two fold-over 14 point designs of the \\(2^ 4\\t...       415\n",
       "3928148  By analogy with the univariate case the author...       583\n",
       "3928149  This is a study of asymptotic properties of va...       384\n",
       "3928151  Let \\(\\{\\) X(t)\\(\\}\\), \\(t\\in {\\mathbb{Z}}\\), ...      1155\n",
       "3928154  In this paper the authors study the prediction...       655\n",
       "...                                                    ...       ...\n",
       "7500464  Summary: We study determinants of the square-t...       346\n",
       "7500465  Summary: In this study, we use the union of th...       344\n",
       "7500466  Summary: In this work, the Catalan transformat...       582\n",
       "7500467  Summary: A numerical treatment via a differenc...       544\n",
       "7500468  Summary: Communication systems including AM an...      1471\n",
       "\n",
       "[578412 rows x 2 columns]"
      ]
     },
     "execution_count": 10,
     "metadata": {},
     "output_type": "execute_result"
    }
   ],
   "source": [
    "lookup"
   ]
  },
  {
   "cell_type": "code",
   "execution_count": 11,
   "metadata": {},
   "outputs": [],
   "source": [
    "def create_pairs(df):\n",
    "    relevant_docs={}\n",
    "    for seed,row in tqdm(df.iterrows()):\n",
    "        rec_list = row[~row.isna()].astype(int).to_list()\n",
    "        relevant_docs[seed] = set(rec_list)\n",
    "    return relevant_docs\n",
    "    "
   ]
  },
  {
   "cell_type": "code",
   "execution_count": 12,
   "metadata": {},
   "outputs": [
    {
     "name": "stderr",
     "output_type": "stream",
     "text": [
      "0it [00:00, ?it/s]"
     ]
    },
    {
     "name": "stderr",
     "output_type": "stream",
     "text": [
      "80it [00:00, 2758.53it/s]\n"
     ]
    }
   ],
   "source": [
    "relevant_docs = create_pairs(recs)"
   ]
  },
  {
   "cell_type": "code",
   "execution_count": 13,
   "metadata": {},
   "outputs": [
    {
     "data": {
      "text/plain": [
       "{1566951: {930151, 1579464, 4181495, 5083606, 6338806},\n",
       " 1363213: {1036371, 1363213, 1445144, 1801581, 2165994, 6225939},\n",
       " 1308161: {1356576, 4193896, 5007259, 5638157},\n",
       " 1303018: {224045, 427914, 951967, 5120555, 5354085},\n",
       " 1591097: {1758339, 2136591, 3867686, 5049067},\n",
       " 2105416: {1059629, 5271305, 6216299},\n",
       " 1013949: {1315242, 1864745, 1983902, 3767833, 6677815},\n",
       " 1262405: {849952, 1162060, 1232539, 1423821, 1523448, 1585265},\n",
       " 1661079: {1121710, 3506862, 6766194},\n",
       " 1371474: {2067093, 3545808, 6095689, 6572608},\n",
       " 1247615: {3297205, 3595379, 3745438, 5077259},\n",
       " 1138672: {3275185, 3929157, 4154607, 5176593, 6019770, 6377480},\n",
       " 1341970: {227591, 2235467, 5233949, 6124083, 6228504, 6543124},\n",
       " 119869: {3261280, 3393319, 3541568, 7341310},\n",
       " 1341964: {993528,\n",
       "  1441724,\n",
       "  1597921,\n",
       "  1614787,\n",
       "  1701993,\n",
       "  1747161,\n",
       "  1965428,\n",
       "  2157081,\n",
       "  2157754,\n",
       "  3855291,\n",
       "  5657069,\n",
       "  6545191},\n",
       " 1664684: {1476070, 1848116, 6068108, 6838613},\n",
       " 1558736: {2185481, 3689556, 4127396},\n",
       " 14466: {897863, 950784, 1669842, 1868665, 2146818, 6062792},\n",
       " 1629356: {27577, 1910606, 4160913, 5356758, 5644238, 6298842},\n",
       " 1058016: {179196, 849952, 976024, 5071480, 5609506},\n",
       " 1579443: {703963, 749867, 1329319, 5046828},\n",
       " 1491052: {540563,\n",
       "  645148,\n",
       "  1097604,\n",
       "  1228569,\n",
       "  2123194,\n",
       "  3611474,\n",
       "  3767833,\n",
       "  5161824},\n",
       " 1619869: {1341964,\n",
       "  1597921,\n",
       "  1965428,\n",
       "  2053123,\n",
       "  5903207,\n",
       "  5956692,\n",
       "  6099539,\n",
       "  6434561},\n",
       " 1745734: {224186, 409833, 1930963, 1967962},\n",
       " 1031529: {732149, 1182035, 1295382, 1777245, 5219876, 6236003, 6841544},\n",
       " 1339744: {32834, 3215175, 3236671, 3294268, 3302043, 3717687, 4152549},\n",
       " 1275776: {883842, 1789577, 2091183, 3989438, 3989439},\n",
       " 1133084: {1658247,\n",
       "  2075717,\n",
       "  2585748,\n",
       "  2585749,\n",
       "  3113549,\n",
       "  3229580,\n",
       "  6825025,\n",
       "  7196840},\n",
       " 1269765: {952018, 998514, 1279231, 1334957, 1537812, 6589293},\n",
       " 1229757: {792475, 874179, 1340596, 5774803},\n",
       " 1754762: {2021763, 5135137, 6345549},\n",
       " 1000561: {438592, 949890, 1453352, 5043530, 5680965},\n",
       " 1405602: {2182847, 6245831, 6727282},\n",
       " 1448638: {861963, 1579464, 1720950, 5154884},\n",
       " 1121669: {28328, 4115957, 4183562},\n",
       " 1092827: {1187643, 1308215, 1347320, 7438669},\n",
       " 1591107: {1104115,\n",
       "  1340566,\n",
       "  1578134,\n",
       "  1578135,\n",
       "  1797473,\n",
       "  3042764,\n",
       "  3434013,\n",
       "  3518934,\n",
       "  5124458},\n",
       " 1592059: {870199, 1083671, 1449999, 1541218, 3542770, 5144772},\n",
       " 1587247: {11164, 727829, 1425086, 1713704, 4098235, 4134258},\n",
       " 1144539: {653320, 2001580, 6296984, 6565333},\n",
       " 1002951: {458943, 796485, 5808595},\n",
       " 1584568: {2078864, 3305239, 5573128, 6265550},\n",
       " 1454438: {42574, 1454439, 1642216},\n",
       " 1605281: {554881, 917671, 1098702, 5211806},\n",
       " 1089786: {910242, 1089786, 3404370, 6099398},\n",
       " 1426667: {826040, 975620, 1871598, 6065254, 6946140},\n",
       " 1463607: {1422910, 2075730, 3340953, 4008542, 4214194},\n",
       " 1738275: {784020, 1811892, 1974582, 5229022, 6023748},\n",
       " 1192411: {1026489,\n",
       "  1089061,\n",
       "  1192412,\n",
       "  1443593,\n",
       "  5199713,\n",
       "  5543340,\n",
       "  5603279,\n",
       "  5876206},\n",
       " 1516340: {745257, 1621022, 3519116, 5236231, 5611842},\n",
       " 1247905: {2096739, 5145500, 6044490, 6468724, 6748169, 7066485},\n",
       " 1254249: {985596, 1768160, 5065141, 5203421, 6029101},\n",
       " 1222049: {48790, 1544078, 2026793, 5233126, 6224865},\n",
       " 1621343: {1663809, 1915690, 1943338},\n",
       " 1021586: {540407, 847806, 878563, 878583, 1007814},\n",
       " 1239817: {29327, 745258, 1230553, 1375120, 1489470, 2059606, 5156197},\n",
       " 1633055: {10342, 3237607, 3259956, 3704735, 3801699, 6047817},\n",
       " 6362519: {1797473, 5791729, 6393495},\n",
       " 1700879: {1814806, 5976096, 7214283},\n",
       " 1969249: {7049352, 7069473, 7480678},\n",
       " 1700852: {39556, 993515, 1619250, 5189579, 5229793, 5636192, 6969983},\n",
       " 5152710: {5039173, 5990842},\n",
       " 5860511: {1702908, 1709947, 2164033, 5185946, 6166674, 6290997},\n",
       " 1445475: {1131856,\n",
       "  1179526,\n",
       "  1445474,\n",
       "  1837462,\n",
       "  1888337,\n",
       "  5069390,\n",
       "  5988229,\n",
       "  6355533,\n",
       "  6975530},\n",
       " 1418001: {814532, 1383530, 1463266, 5025082, 5288649, 6642279},\n",
       " 1947345: {1523369, 3518933, 3809718, 5049834, 5365517, 6913673},\n",
       " 5049834: {1947345, 2158899, 5652990, 5883624, 6100774, 6235918, 7356814},\n",
       " 5666589: {7924, 3435639, 3794225, 4215907, 5076981, 6543114},\n",
       " 2084971: {1663719, 4208261, 5046861, 6223372, 6298548, 6413575},\n",
       " 5049827: {1794823, 2078345, 5667739, 6260584, 6261670, 7195690},\n",
       " 5574534: {5877062,\n",
       "  6151727,\n",
       "  6199272,\n",
       "  6227582,\n",
       "  6244901,\n",
       "  6264538,\n",
       "  6580764,\n",
       "  7000162},\n",
       " 1681073: {91441,\n",
       "  825336,\n",
       "  1484869,\n",
       "  2021763,\n",
       "  5723617,\n",
       "  5835785,\n",
       "  6345560,\n",
       "  6774923},\n",
       " 1700878: {1423675, 1984332, 2051858, 5535059, 5667940, 6706683, 7399405},\n",
       " 6334332: {3670590, 5011491, 5186652, 5264714, 6817567},\n",
       " 1837308: {727829, 758028, 781692, 5909143, 5947058, 6194507, 6325163},\n",
       " 1717472: {2242293, 3730851, 3761051, 5548676, 6139667},\n",
       " 1440949: {1421503, 2084973, 6019653, 7102539, 7543981},\n",
       " 1659152: {1998494,\n",
       "  2093433,\n",
       "  3537823,\n",
       "  3957296,\n",
       "  5008946,\n",
       "  5146865,\n",
       "  5548162,\n",
       "  6179848,\n",
       "  6333839,\n",
       "  6484436},\n",
       " 1984577: {1098974, 1251264, 5676086, 5768595, 6037599},\n",
       " 1440941: {589812, 1549516, 2135209}}"
      ]
     },
     "execution_count": 13,
     "metadata": {},
     "output_type": "execute_result"
    }
   ],
   "source": [
    "relevant_docs"
   ]
  },
  {
   "cell_type": "code",
   "execution_count": 14,
   "metadata": {},
   "outputs": [],
   "source": [
    "def get_contents_queries(df,lookup):\n",
    "    queries={}\n",
    "    for seed,recs in df.items():\n",
    "        if seed not in lookup.index:\n",
    "            print(seed)\n",
    "            continue\n",
    "        query = lookup.loc[seed].text\n",
    "        if isinstance(query, pd.Series):\n",
    "            query = query.iloc[0]\n",
    "        queries[seed] = query\n",
    "    return queries\n",
    "        "
   ]
  },
  {
   "cell_type": "code",
   "execution_count": 15,
   "metadata": {},
   "outputs": [],
   "source": [
    "def get_contents_recs(df,lookup):\n",
    "    queries={}\n",
    "    for _,recs in df.items():\n",
    "        for rec_id in recs:\n",
    "            if rec_id not in lookup.index:\n",
    "                continue\n",
    "            rec = lookup.loc[rec_id].text\n",
    "            if isinstance(rec, pd.Series):\n",
    "                rec = rec.iloc[0]\n",
    "            queries[rec_id] = rec\n",
    "    return queries"
   ]
  },
  {
   "cell_type": "code",
   "execution_count": 16,
   "metadata": {},
   "outputs": [],
   "source": [
    "corpus_golden = get_contents_recs(relevant_docs,golden_lookup)"
   ]
  },
  {
   "cell_type": "code",
   "execution_count": 17,
   "metadata": {},
   "outputs": [],
   "source": [
    "queries = get_contents_queries(relevant_docs,golden_lookup)"
   ]
  },
  {
   "cell_type": "code",
   "execution_count": 18,
   "metadata": {},
   "outputs": [],
   "source": [
    "def get_contents_corpus(n,lookup):\n",
    "    a=lookup.sample(n).reset_index()\n",
    "    return dict(zip(a['id'], a['text']))\n",
    "        "
   ]
  },
  {
   "cell_type": "code",
   "execution_count": 24,
   "metadata": {},
   "outputs": [],
   "source": [
    "corpus = get_contents_corpus(50000,lookup)"
   ]
  },
  {
   "cell_type": "code",
   "execution_count": 25,
   "metadata": {},
   "outputs": [],
   "source": [
    "corpus.update(corpus_golden)"
   ]
  },
  {
   "cell_type": "code",
   "execution_count": 27,
   "metadata": {},
   "outputs": [
    {
     "data": {
      "text/plain": [
       "50359"
      ]
     },
     "execution_count": 27,
     "metadata": {},
     "output_type": "execute_result"
    }
   ],
   "source": [
    "len(corpus.keys())"
   ]
  },
  {
   "cell_type": "code",
   "execution_count": 16,
   "metadata": {},
   "outputs": [],
   "source": [
    "import pickle\n",
    "\n",
    "with open('zbmath.pickle', 'wb') as file:\n",
    "    pickle.dump(corpus, file)\n",
    "\n",
    "with open('relevant_docs.pickle', 'wb') as file:\n",
    "    pickle.dump(relevant_docs, file)\n",
    "\n",
    "with open('queries.pickle', 'wb') as file:\n",
    "    pickle.dump(queries, file)"
   ]
  }
 ],
 "metadata": {
  "kernelspec": {
   "display_name": "myenv",
   "language": "python",
   "name": "python3"
  },
  "language_info": {
   "codemirror_mode": {
    "name": "ipython",
    "version": 3
   },
   "file_extension": ".py",
   "mimetype": "text/x-python",
   "name": "python",
   "nbconvert_exporter": "python",
   "pygments_lexer": "ipython3",
   "version": "3.10.12"
  }
 },
 "nbformat": 4,
 "nbformat_minor": 2
}
