{
 "cells": [
  {
   "cell_type": "code",
   "execution_count": 1,
   "metadata": {},
   "outputs": [],
   "source": [
    "import pandas as pd\n",
    "from tqdm import tqdm\n",
    "import numpy as np\n",
    "import seaborn as sns\n",
    "np.random.seed(42)"
   ]
  },
  {
   "cell_type": "code",
   "execution_count": 2,
   "metadata": {},
   "outputs": [],
   "source": [
    "conts = pd.read_csv('../data/documentContents.csv')\n",
    "header = ['seed'] + ['rec'+str(i) for i in range(14)]\n",
    "recs = pd.read_csv('../data/recommendationPairs.csv',names = header,index_col=0)\n",
    "train_ids = pd.read_csv('../data/dataTrainIDs.csv')\n",
    "\n",
    "full= pd.read_csv('../data/out.csv')"
   ]
  },
  {
   "cell_type": "code",
   "execution_count": 3,
   "metadata": {},
   "outputs": [],
   "source": [
    "conts = conts.rename(columns={'Abstract/Review/Summarry':'text'})\n",
    "conts = conts[~conts.text.isna()]\n",
    "conts['text'] = conts.text.apply(lambda x: x[2:-2])\n",
    "conts['text_len'] = conts.text.apply(lambda x: len(x))\n",
    "conts = conts[conts.text_len > 150]\n",
    "conts['zbMATH_ID']=conts['zbMATH_ID'].astype(int)\n",
    "conts=conts.set_index('zbMATH_ID')"
   ]
  },
  {
   "cell_type": "code",
   "execution_count": 4,
   "metadata": {},
   "outputs": [],
   "source": [
    "full = full.rename(columns={'de':'id'})[['id','text']]\n",
    "full['text_len'] = full.text.apply(lambda x: len(x))\n",
    "full = full[full.text_len > 150]\n",
    "full['id']=full['id'].astype(int)\n",
    "full=full.set_index('id')"
   ]
  },
  {
   "cell_type": "code",
   "execution_count": 5,
   "metadata": {},
   "outputs": [],
   "source": [
    "train_ids = train_ids['seeID'].unique()\n",
    "test_ids = np.setdiff1d(np.array(recs.index),train_ids)\n",
    "pool_ids = np.array(full.index)\n",
    "all_labeled_ids = np.array(recs.index)"
   ]
  },
  {
   "cell_type": "code",
   "execution_count": 6,
   "metadata": {},
   "outputs": [],
   "source": [
    "train_recs = recs.loc[train_ids]\n",
    "test_recs = recs.loc[test_ids]"
   ]
  },
  {
   "cell_type": "code",
   "execution_count": 7,
   "metadata": {},
   "outputs": [],
   "source": [
    "def create_pairs(df,recs_ids,full_ids):\n",
    "    rowlist=[]\n",
    "    for seed,row in tqdm(df.iterrows()):\n",
    "        rec_list = row[~row.isna()].astype(int).to_list()\n",
    "        for rec_id in rec_list:\n",
    "            # create positive\n",
    "            rowlist.append({'seed':seed,'rec':rec_id,'label':1})\n",
    "            # sample negative\n",
    "            random_negative = np.random.choice(full_ids)\n",
    "            while random_negative in recs_ids:\n",
    "                random_negative = np.random.choice(full_ids)\n",
    "            rowlist.append({'seed':seed,'rec':random_negative,'label':0})\n",
    "    return pd.DataFrame(rowlist)\n",
    "    "
   ]
  },
  {
   "cell_type": "code",
   "execution_count": 8,
   "metadata": {},
   "outputs": [
    {
     "name": "stderr",
     "output_type": "stream",
     "text": [
      "20it [00:00, 1390.41it/s]\n"
     ]
    },
    {
     "name": "stderr",
     "output_type": "stream",
     "text": [
      "60it [00:00, 1902.83it/s]\n"
     ]
    }
   ],
   "source": [
    "train_dataset = create_pairs(train_recs,all_labeled_ids,full_ids=pool_ids)\n",
    "test_dataset = create_pairs(test_recs,all_labeled_ids,full_ids=pool_ids)"
   ]
  },
  {
   "cell_type": "code",
   "execution_count": 9,
   "metadata": {},
   "outputs": [
    {
     "data": {
      "text/html": [
       "<div>\n",
       "<style scoped>\n",
       "    .dataframe tbody tr th:only-of-type {\n",
       "        vertical-align: middle;\n",
       "    }\n",
       "\n",
       "    .dataframe tbody tr th {\n",
       "        vertical-align: top;\n",
       "    }\n",
       "\n",
       "    .dataframe thead th {\n",
       "        text-align: right;\n",
       "    }\n",
       "</style>\n",
       "<table border=\"1\" class=\"dataframe\">\n",
       "  <thead>\n",
       "    <tr style=\"text-align: right;\">\n",
       "      <th></th>\n",
       "      <th>seed</th>\n",
       "      <th>rec</th>\n",
       "      <th>label</th>\n",
       "    </tr>\n",
       "  </thead>\n",
       "  <tbody>\n",
       "    <tr>\n",
       "      <th>0</th>\n",
       "      <td>1566951</td>\n",
       "      <td>4181495</td>\n",
       "      <td>1</td>\n",
       "    </tr>\n",
       "    <tr>\n",
       "      <th>1</th>\n",
       "      <td>1566951</td>\n",
       "      <td>5924715</td>\n",
       "      <td>0</td>\n",
       "    </tr>\n",
       "    <tr>\n",
       "      <th>2</th>\n",
       "      <td>1566951</td>\n",
       "      <td>930151</td>\n",
       "      <td>1</td>\n",
       "    </tr>\n",
       "    <tr>\n",
       "      <th>3</th>\n",
       "      <td>1566951</td>\n",
       "      <td>2507805</td>\n",
       "      <td>0</td>\n",
       "    </tr>\n",
       "    <tr>\n",
       "      <th>4</th>\n",
       "      <td>1566951</td>\n",
       "      <td>5083606</td>\n",
       "      <td>1</td>\n",
       "    </tr>\n",
       "    <tr>\n",
       "      <th>...</th>\n",
       "      <td>...</td>\n",
       "      <td>...</td>\n",
       "      <td>...</td>\n",
       "    </tr>\n",
       "    <tr>\n",
       "      <th>223</th>\n",
       "      <td>1269765</td>\n",
       "      <td>1233903</td>\n",
       "      <td>0</td>\n",
       "    </tr>\n",
       "    <tr>\n",
       "      <th>224</th>\n",
       "      <td>1269765</td>\n",
       "      <td>952018</td>\n",
       "      <td>1</td>\n",
       "    </tr>\n",
       "    <tr>\n",
       "      <th>225</th>\n",
       "      <td>1269765</td>\n",
       "      <td>2541827</td>\n",
       "      <td>0</td>\n",
       "    </tr>\n",
       "    <tr>\n",
       "      <th>226</th>\n",
       "      <td>1269765</td>\n",
       "      <td>1334957</td>\n",
       "      <td>1</td>\n",
       "    </tr>\n",
       "    <tr>\n",
       "      <th>227</th>\n",
       "      <td>1269765</td>\n",
       "      <td>1419752</td>\n",
       "      <td>0</td>\n",
       "    </tr>\n",
       "  </tbody>\n",
       "</table>\n",
       "<p>228 rows × 3 columns</p>\n",
       "</div>"
      ],
      "text/plain": [
       "        seed      rec  label\n",
       "0    1566951  4181495      1\n",
       "1    1566951  5924715      0\n",
       "2    1566951   930151      1\n",
       "3    1566951  2507805      0\n",
       "4    1566951  5083606      1\n",
       "..       ...      ...    ...\n",
       "223  1269765  1233903      0\n",
       "224  1269765   952018      1\n",
       "225  1269765  2541827      0\n",
       "226  1269765  1334957      1\n",
       "227  1269765  1419752      0\n",
       "\n",
       "[228 rows x 3 columns]"
      ]
     },
     "execution_count": 9,
     "metadata": {},
     "output_type": "execute_result"
    }
   ],
   "source": [
    "train_dataset"
   ]
  },
  {
   "cell_type": "code",
   "execution_count": 10,
   "metadata": {},
   "outputs": [],
   "source": [
    "def get_contents(df,lookup_positive,lookup_negative):\n",
    "    rowlist=[]\n",
    "    for idx,row in df.iterrows():\n",
    "\n",
    "        if row['seed'] not in lookup_positive.index:\n",
    "            continue\n",
    "        anchor = lookup_positive.loc[row['seed']].text\n",
    "        # positive recommendations\n",
    "        if row['label']==1:\n",
    "            \n",
    "            # skip the ones that are not present in contents\n",
    "            if row['rec'] not in lookup_positive.index:\n",
    "                continue\n",
    "            \n",
    "            rec = lookup_positive.loc[row['rec']].text\n",
    "            \n",
    "        # negative ones. Sampling from whole zbmath corpus\n",
    "        else:\n",
    "            rec = lookup_negative.loc[row['rec']].text\n",
    "\n",
    "        rowlist.append({'seed':row['seed'],'anchor':anchor,'rec':rec,'label':row['label']})\n",
    "    return pd.DataFrame(rowlist).set_index('seed').sample(frac=1.,random_state=42)\n",
    "        "
   ]
  },
  {
   "cell_type": "code",
   "execution_count": 11,
   "metadata": {},
   "outputs": [],
   "source": [
    "final_train_dataset = get_contents(train_dataset,conts,full)\n",
    "final_test_dataset = get_contents(test_dataset,conts,full)"
   ]
  },
  {
   "cell_type": "code",
   "execution_count": 12,
   "metadata": {},
   "outputs": [
    {
     "data": {
      "text/plain": [
       "anchor    Summary: Let \\\\(G\\\\) be a finite cyclic subgro...\n",
       "rec       zbMATH_ID\n",
       "1341964    The article consists of t...\n",
       "label                                                     1\n",
       "Name: 1619869, dtype: object"
      ]
     },
     "execution_count": 12,
     "metadata": {},
     "output_type": "execute_result"
    }
   ],
   "source": [
    "final_train_dataset.iloc[45]"
   ]
  },
  {
   "cell_type": "code",
   "execution_count": 13,
   "metadata": {},
   "outputs": [
    {
     "data": {
      "text/html": [
       "<div>\n",
       "<style scoped>\n",
       "    .dataframe tbody tr th:only-of-type {\n",
       "        vertical-align: middle;\n",
       "    }\n",
       "\n",
       "    .dataframe tbody tr th {\n",
       "        vertical-align: top;\n",
       "    }\n",
       "\n",
       "    .dataframe thead th {\n",
       "        text-align: right;\n",
       "    }\n",
       "</style>\n",
       "<table border=\"1\" class=\"dataframe\">\n",
       "  <thead>\n",
       "    <tr style=\"text-align: right;\">\n",
       "      <th></th>\n",
       "      <th>anchor</th>\n",
       "      <th>rec</th>\n",
       "      <th>label</th>\n",
       "    </tr>\n",
       "    <tr>\n",
       "      <th>seed</th>\n",
       "      <th></th>\n",
       "      <th></th>\n",
       "      <th></th>\n",
       "    </tr>\n",
       "  </thead>\n",
       "  <tbody>\n",
       "    <tr>\n",
       "      <th>1566951</th>\n",
       "      <td>Let \\\\(k\\\\) be a field, and let \\\\(E\\\\) be a f...</td>\n",
       "      <td>Let \\(M\\) be the set of all finite complex-val...</td>\n",
       "      <td>0</td>\n",
       "    </tr>\n",
       "    <tr>\n",
       "      <th>1745734</th>\n",
       "      <td>The author considers the following two familie...</td>\n",
       "      <td>Zweck der Arbeit ist die Untersuchung, in wie ...</td>\n",
       "      <td>0</td>\n",
       "    </tr>\n",
       "    <tr>\n",
       "      <th>1664684</th>\n",
       "      <td>Summary: We summarise the brane solutions (ins...</td>\n",
       "      <td>Let \\(G\\) be a finite group and \\((K,R,k)\\) a ...</td>\n",
       "      <td>0</td>\n",
       "    </tr>\n",
       "    <tr>\n",
       "      <th>1275776</th>\n",
       "      <td>Voloch and Brownawell and Masser proved the ``...</td>\n",
       "      <td>Let \\\\(k\\\\) be a field of characteristic 0, an...</td>\n",
       "      <td>1</td>\n",
       "    </tr>\n",
       "    <tr>\n",
       "      <th>1058016</th>\n",
       "      <td>This is a very well written survey of the stat...</td>\n",
       "      <td>In this paper the retina R is modelled as a tw...</td>\n",
       "      <td>0</td>\n",
       "    </tr>\n",
       "    <tr>\n",
       "      <th>...</th>\n",
       "      <td>...</td>\n",
       "      <td>...</td>\n",
       "      <td>...</td>\n",
       "    </tr>\n",
       "    <tr>\n",
       "      <th>1341964</th>\n",
       "      <td>zbMATH_ID\n",
       "1341964    The article consists of t...</td>\n",
       "      <td>Es wird der Einfluß untersucht, den das Schief...</td>\n",
       "      <td>0</td>\n",
       "    </tr>\n",
       "    <tr>\n",
       "      <th>1363213</th>\n",
       "      <td>zbMATH_ID\n",
       "1363213    Let \\\\(X\\\\) be a smooth c...</td>\n",
       "      <td>Let \\\\(X\\\\) be a smooth algebraic surface over...</td>\n",
       "      <td>1</td>\n",
       "    </tr>\n",
       "    <tr>\n",
       "      <th>1341964</th>\n",
       "      <td>zbMATH_ID\n",
       "1341964    The article consists of t...</td>\n",
       "      <td>\\textit{Hardy} hat die Integrale \\n\\[\\n\\begin{...</td>\n",
       "      <td>0</td>\n",
       "    </tr>\n",
       "    <tr>\n",
       "      <th>1619869</th>\n",
       "      <td>Summary: Let \\\\(G\\\\) be a finite cyclic subgro...</td>\n",
       "      <td>Summary: We give sufficient conditions for a F...</td>\n",
       "      <td>1</td>\n",
       "    </tr>\n",
       "    <tr>\n",
       "      <th>1341964</th>\n",
       "      <td>zbMATH_ID\n",
       "1341964    The article consists of t...</td>\n",
       "      <td>Die Ableitung aus der \\textit{Minkowski}schen ...</td>\n",
       "      <td>0</td>\n",
       "    </tr>\n",
       "  </tbody>\n",
       "</table>\n",
       "<p>225 rows × 3 columns</p>\n",
       "</div>"
      ],
      "text/plain": [
       "                                                    anchor  \\\n",
       "seed                                                         \n",
       "1566951  Let \\\\(k\\\\) be a field, and let \\\\(E\\\\) be a f...   \n",
       "1745734  The author considers the following two familie...   \n",
       "1664684  Summary: We summarise the brane solutions (ins...   \n",
       "1275776  Voloch and Brownawell and Masser proved the ``...   \n",
       "1058016  This is a very well written survey of the stat...   \n",
       "...                                                    ...   \n",
       "1341964  zbMATH_ID\n",
       "1341964    The article consists of t...   \n",
       "1363213  zbMATH_ID\n",
       "1363213    Let \\\\(X\\\\) be a smooth c...   \n",
       "1341964  zbMATH_ID\n",
       "1341964    The article consists of t...   \n",
       "1619869  Summary: Let \\\\(G\\\\) be a finite cyclic subgro...   \n",
       "1341964  zbMATH_ID\n",
       "1341964    The article consists of t...   \n",
       "\n",
       "                                                       rec  label  \n",
       "seed                                                               \n",
       "1566951  Let \\(M\\) be the set of all finite complex-val...      0  \n",
       "1745734  Zweck der Arbeit ist die Untersuchung, in wie ...      0  \n",
       "1664684  Let \\(G\\) be a finite group and \\((K,R,k)\\) a ...      0  \n",
       "1275776  Let \\\\(k\\\\) be a field of characteristic 0, an...      1  \n",
       "1058016  In this paper the retina R is modelled as a tw...      0  \n",
       "...                                                    ...    ...  \n",
       "1341964  Es wird der Einfluß untersucht, den das Schief...      0  \n",
       "1363213  Let \\\\(X\\\\) be a smooth algebraic surface over...      1  \n",
       "1341964  \\textit{Hardy} hat die Integrale \\n\\[\\n\\begin{...      0  \n",
       "1619869  Summary: We give sufficient conditions for a F...      1  \n",
       "1341964  Die Ableitung aus der \\textit{Minkowski}schen ...      0  \n",
       "\n",
       "[225 rows x 3 columns]"
      ]
     },
     "execution_count": 13,
     "metadata": {},
     "output_type": "execute_result"
    }
   ],
   "source": [
    "final_train_dataset"
   ]
  },
  {
   "cell_type": "code",
   "execution_count": 14,
   "metadata": {},
   "outputs": [],
   "source": [
    "final_train_dataset.to_csv('../data/final_train_dataset.csv')\n",
    "final_test_dataset.to_csv('../data/final_train_dataset.csv')"
   ]
  },
  {
   "cell_type": "code",
   "execution_count": null,
   "metadata": {},
   "outputs": [],
   "source": []
  }
 ],
 "metadata": {
  "kernelspec": {
   "display_name": "myenv",
   "language": "python",
   "name": "python3"
  },
  "language_info": {
   "codemirror_mode": {
    "name": "ipython",
    "version": 3
   },
   "file_extension": ".py",
   "mimetype": "text/x-python",
   "name": "python",
   "nbconvert_exporter": "python",
   "pygments_lexer": "ipython3",
   "version": "3.10.12"
  }
 },
 "nbformat": 4,
 "nbformat_minor": 2
}
